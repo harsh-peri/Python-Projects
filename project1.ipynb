{
 "cells": [
  {
   "cell_type": "code",
   "execution_count": 2,
   "metadata": {
    "colab": {
     "base_uri": "https://localhost:8080/"
    },
    "id": "F-TiFEtytNjV",
    "outputId": "92144a73-b5a9-40d3-beee-72c8cca60e94"
   },
   "outputs": [
    {
     "name": "stdout",
     "output_type": "stream",
     "text": [
      "Collecting opencv-python\n",
      "  Obtaining dependency information for opencv-python from https://files.pythonhosted.org/packages/a4/7d/f1c30a92854540bf789e9cd5dde7ef49bbe63f855b85a2e6b3db8135c591/opencv_python-4.11.0.86-cp37-abi3-win_amd64.whl.metadata\n",
      "  Downloading opencv_python-4.11.0.86-cp37-abi3-win_amd64.whl.metadata (20 kB)\n",
      "Requirement already satisfied: numpy>=1.21.2 in c:\\users\\harsh\\anaconda3\\lib\\site-packages (from opencv-python) (1.24.3)\n",
      "Downloading opencv_python-4.11.0.86-cp37-abi3-win_amd64.whl (39.5 MB)\n",
      "   ---------------------------------------- 0.0/39.5 MB ? eta -:--:--\n",
      "   ---------------------------------------- 0.2/39.5 MB 3.9 MB/s eta 0:00:11\n",
      "    --------------------------------------- 0.5/39.5 MB 6.7 MB/s eta 0:00:06\n",
      "    --------------------------------------- 1.0/39.5 MB 6.7 MB/s eta 0:00:06\n",
      "   - -------------------------------------- 1.3/39.5 MB 7.7 MB/s eta 0:00:05\n",
      "   - -------------------------------------- 1.8/39.5 MB 7.5 MB/s eta 0:00:06\n",
      "   -- ------------------------------------- 2.2/39.5 MB 7.7 MB/s eta 0:00:05\n",
      "   -- ------------------------------------- 2.5/39.5 MB 7.7 MB/s eta 0:00:05\n",
      "   -- ------------------------------------- 2.9/39.5 MB 8.1 MB/s eta 0:00:05\n",
      "   --- ------------------------------------ 3.3/39.5 MB 7.8 MB/s eta 0:00:05\n",
      "   --- ------------------------------------ 3.6/39.5 MB 8.0 MB/s eta 0:00:05\n",
      "   ---- ----------------------------------- 4.0/39.5 MB 7.7 MB/s eta 0:00:05\n",
      "   ---- ----------------------------------- 4.3/39.5 MB 7.7 MB/s eta 0:00:05\n",
      "   ---- ----------------------------------- 4.4/39.5 MB 7.1 MB/s eta 0:00:05\n",
      "   ---- ----------------------------------- 4.6/39.5 MB 7.2 MB/s eta 0:00:05\n",
      "   ---- ----------------------------------- 4.9/39.5 MB 7.2 MB/s eta 0:00:05\n",
      "   ----- ---------------------------------- 5.3/39.5 MB 7.2 MB/s eta 0:00:05\n",
      "   ----- ---------------------------------- 5.7/39.5 MB 7.2 MB/s eta 0:00:05\n",
      "   ------ --------------------------------- 6.1/39.5 MB 7.2 MB/s eta 0:00:05\n",
      "   ------ --------------------------------- 6.5/39.5 MB 7.4 MB/s eta 0:00:05\n",
      "   ------ --------------------------------- 6.9/39.5 MB 7.4 MB/s eta 0:00:05\n",
      "   ------- -------------------------------- 7.2/39.5 MB 7.5 MB/s eta 0:00:05\n",
      "   ------- -------------------------------- 7.6/39.5 MB 7.5 MB/s eta 0:00:05\n",
      "   -------- ------------------------------- 8.0/39.5 MB 7.5 MB/s eta 0:00:05\n",
      "   -------- ------------------------------- 8.4/39.5 MB 7.6 MB/s eta 0:00:05\n",
      "   -------- ------------------------------- 8.8/39.5 MB 7.6 MB/s eta 0:00:05\n",
      "   --------- ------------------------------ 9.2/39.5 MB 7.6 MB/s eta 0:00:04\n",
      "   --------- ------------------------------ 9.5/39.5 MB 7.6 MB/s eta 0:00:04\n",
      "   ---------- ----------------------------- 10.0/39.5 MB 7.7 MB/s eta 0:00:04\n",
      "   ---------- ----------------------------- 10.4/39.5 MB 7.9 MB/s eta 0:00:04\n",
      "   ---------- ----------------------------- 10.8/39.5 MB 7.9 MB/s eta 0:00:04\n",
      "   ----------- ---------------------------- 11.3/39.5 MB 7.9 MB/s eta 0:00:04\n",
      "   ----------- ---------------------------- 11.8/39.5 MB 8.0 MB/s eta 0:00:04\n",
      "   ------------ --------------------------- 12.2/39.5 MB 8.1 MB/s eta 0:00:04\n",
      "   ------------ --------------------------- 12.7/39.5 MB 8.1 MB/s eta 0:00:04\n",
      "   ------------- -------------------------- 13.1/39.5 MB 8.1 MB/s eta 0:00:04\n",
      "   ------------- -------------------------- 13.5/39.5 MB 8.2 MB/s eta 0:00:04\n",
      "   -------------- ------------------------- 14.0/39.5 MB 8.2 MB/s eta 0:00:04\n",
      "   -------------- ------------------------- 14.5/39.5 MB 8.4 MB/s eta 0:00:03\n",
      "   --------------- ------------------------ 15.1/39.5 MB 9.1 MB/s eta 0:00:03\n",
      "   --------------- ------------------------ 15.6/39.5 MB 9.2 MB/s eta 0:00:03\n",
      "   ---------------- ----------------------- 16.2/39.5 MB 9.5 MB/s eta 0:00:03\n",
      "   ---------------- ----------------------- 16.8/39.5 MB 9.6 MB/s eta 0:00:03\n",
      "   ----------------- ---------------------- 17.3/39.5 MB 9.8 MB/s eta 0:00:03\n",
      "   ------------------ --------------------- 17.8/39.5 MB 9.9 MB/s eta 0:00:03\n",
      "   ------------------ --------------------- 18.4/39.5 MB 10.2 MB/s eta 0:00:03\n",
      "   ------------------- -------------------- 19.0/39.5 MB 10.4 MB/s eta 0:00:02\n",
      "   ------------------- -------------------- 19.5/39.5 MB 10.6 MB/s eta 0:00:02\n",
      "   -------------------- ------------------- 19.8/39.5 MB 10.4 MB/s eta 0:00:02\n",
      "   -------------------- ------------------- 20.5/39.5 MB 10.7 MB/s eta 0:00:02\n",
      "   --------------------- ------------------ 21.3/39.5 MB 11.3 MB/s eta 0:00:02\n",
      "   ---------------------- ----------------- 22.1/39.5 MB 11.7 MB/s eta 0:00:02\n",
      "   ----------------------- ---------------- 22.9/39.5 MB 12.1 MB/s eta 0:00:02\n",
      "   ------------------------ --------------- 23.7/39.5 MB 12.8 MB/s eta 0:00:02\n",
      "   ------------------------ --------------- 24.6/39.5 MB 13.6 MB/s eta 0:00:02\n",
      "   ------------------------- -------------- 25.3/39.5 MB 13.6 MB/s eta 0:00:02\n",
      "   -------------------------- ------------- 26.2/39.5 MB 14.2 MB/s eta 0:00:01\n",
      "   --------------------------- ------------ 27.0/39.5 MB 14.6 MB/s eta 0:00:01\n",
      "   ---------------------------- ----------- 27.8/39.5 MB 15.2 MB/s eta 0:00:01\n",
      "   ----------------------------- ---------- 28.7/39.5 MB 16.0 MB/s eta 0:00:01\n",
      "   ------------------------------ --------- 30.0/39.5 MB 18.2 MB/s eta 0:00:01\n",
      "   ------------------------------- -------- 31.4/39.5 MB 19.9 MB/s eta 0:00:01\n",
      "   --------------------------------- ------ 32.8/39.5 MB 21.1 MB/s eta 0:00:01\n",
      "   ---------------------------------- ----- 34.1/39.5 MB 21.8 MB/s eta 0:00:01\n",
      "   ----------------------------------- ---- 35.4/39.5 MB 23.4 MB/s eta 0:00:01\n",
      "   ------------------------------------- -- 36.7/39.5 MB 25.1 MB/s eta 0:00:01\n",
      "   -------------------------------------- - 38.0/39.5 MB 27.3 MB/s eta 0:00:01\n",
      "   ---------------------------------------  39.4/39.5 MB 28.5 MB/s eta 0:00:01\n",
      "   ---------------------------------------  39.5/39.5 MB 28.5 MB/s eta 0:00:01\n",
      "   ---------------------------------------  39.5/39.5 MB 28.5 MB/s eta 0:00:01\n",
      "   ---------------------------------------- 39.5/39.5 MB 21.1 MB/s eta 0:00:00\n",
      "Installing collected packages: opencv-python\n",
      "Successfully installed opencv-python-4.11.0.86\n"
     ]
    }
   ],
   "source": [
    "!pip install opencv-python"
   ]
  },
  {
   "cell_type": "code",
   "execution_count": 3,
   "metadata": {
    "id": "LTEJgnu5XtVI"
   },
   "outputs": [],
   "source": [
    "import numpy as np\n",
    "import imageio.v2 as imageio\n",
    "import matplotlib.pyplot as plt\n",
    "import matplotlib.image as mpimg\n",
    "import scipy.linalg"
   ]
  },
  {
   "cell_type": "markdown",
   "metadata": {
    "id": "XSKekbceX0jV"
   },
   "source": [
    "PROJECT 1"
   ]
  },
  {
   "cell_type": "code",
   "execution_count": 7,
   "metadata": {
    "colab": {
     "base_uri": "https://localhost:8080/"
    },
    "id": "e6eUczA4Xtiq",
    "outputId": "c884d643-7566-44ed-ba0f-c6d72b1beee4"
   },
   "outputs": [
    {
     "name": "stdout",
     "output_type": "stream",
     "text": [
      "Matrix A:\n",
      " [[ 2  8  9]\n",
      " [ 3  3  1]\n",
      " [ 4  0 15]]\n",
      "Length of A: 3\n"
     ]
    }
   ],
   "source": [
    "# 1. Determine the length of a matrix or vector\n",
    "A = np.array([[2, 8, 9],\n",
    "              [3, 3, 1],\n",
    "              [4, 0, 15]])\n",
    "\n",
    "print(\"Matrix A:\\n\", A)\n",
    "print(\"Length of A:\", len(A))"
   ]
  },
  {
   "cell_type": "code",
   "execution_count": 8,
   "metadata": {
    "colab": {
     "base_uri": "https://localhost:8080/"
    },
    "id": "cmN8Nn7MXtlF",
    "outputId": "1039d3a6-4b0b-44d8-d0bb-bb25bfca3d34"
   },
   "outputs": [
    {
     "name": "stdout",
     "output_type": "stream",
     "text": [
      "\n",
      "Matrix B:\n",
      " [[1 1 1]]\n",
      "\n",
      "Matrix C:\n",
      " [[ 2  8  9]\n",
      " [ 3  3  1]\n",
      " [ 4  0 15]\n",
      " [ 1  1  1]]\n"
     ]
    }
   ],
   "source": [
    "# 2. Add B as the fourth row of A to create C\n",
    "B = np.array([[1, 1, 1]]) \n",
    "C = np.vstack((A, B))\n",
    "print(\"\\nMatrix B:\\n\", B)\n",
    "print(\"\\nMatrix C:\\n\", C)"
   ]
  },
  {
   "cell_type": "code",
   "execution_count": 9,
   "metadata": {
    "colab": {
     "base_uri": "https://localhost:8080/"
    },
    "id": "r4aDuwjKXtnb",
    "outputId": "584e6879-9d95-4657-f53c-13128042f3dc"
   },
   "outputs": [
    {
     "name": "stdout",
     "output_type": "stream",
     "text": [
      "\n",
      "Matrix D:\n",
      " [[ 3  1]\n",
      " [ 0 15]\n",
      " [ 1  1]]\n"
     ]
    }
   ],
   "source": [
    "# 3. Create D from rows 2, 3, 4 and columns 3, 4 of C\n",
    "D = C[1:4, 1:3]\n",
    "print(\"\\nMatrix D:\\n\", D)"
   ]
  },
  {
   "cell_type": "code",
   "execution_count": 10,
   "metadata": {
    "colab": {
     "base_uri": "https://localhost:8080/"
    },
    "id": "V_O1OcKaXtqE",
    "outputId": "256d9252-3b09-4de5-c4f4-ac0d15429a8a"
   },
   "outputs": [
    {
     "name": "stdout",
     "output_type": "stream",
     "text": [
      "\n",
      "Matrix E:\n",
      " [[ 3  0  1]\n",
      " [ 1 15  1]]\n",
      "Size of E: (2, 3)\n"
     ]
    }
   ],
   "source": [
    "# 4. Transpose D to create E\n",
    "E = D.T\n",
    "print(\"\\nMatrix E:\\n\", E)\n",
    "\n",
    "# 5. Check the size of E\n",
    "print(\"Size of E:\", E.shape)"
   ]
  },
  {
   "cell_type": "code",
   "execution_count": 11,
   "metadata": {
    "colab": {
     "base_uri": "https://localhost:8080/"
    },
    "id": "AG7gh4QWXttm",
    "outputId": "a3091425-ffe1-49aa-d3cb-7fadd7499416"
   },
   "outputs": [
    {
     "name": "stdout",
     "output_type": "stream",
     "text": [
      "\n",
      "Equally spaced vector: [1.    1.125 1.25  1.375 1.5   1.625 1.75  1.875 2.   ]\n"
     ]
    }
   ],
   "source": [
    "# 6. Create equally spaced vectors\n",
    "print(\"\\nEqually spaced vector:\", np.linspace(1, 2, 9))"
   ]
  },
  {
   "cell_type": "code",
   "execution_count": 16,
   "metadata": {
    "colab": {
     "base_uri": "https://localhost:8080/"
    },
    "id": "uTJt0JPsYWPt",
    "outputId": "6da7f69a-a55a-4753-b455-7d459db0a3fe"
   },
   "outputs": [
    {
     "name": "stdout",
     "output_type": "stream",
     "text": [
      "\n",
      "Matrix A:\n",
      " [[ 2  8  9]\n",
      " [ 3  3  1]\n",
      " [ 4  0 15]]\n",
      "\n",
      "Max in each column: [ 4  8 15]\n",
      "Min in each column: [2 0 1]\n",
      "Min in each row: [2 1 0]\n",
      "Max in each row: [ 9  3 15]\n"
     ]
    }
   ],
   "source": [
    "# 7 & 8. Find max and min values in each column and row of A\n",
    "print(\"\\nMatrix A:\\n\",A)\n",
    "print(\"\\nMax in each column:\", np.max(A, axis=0))\n",
    "print(\"Min in each column:\", np.min(A, axis=0))\n",
    "print(\"Min in each row:\", np.min(A, axis=1))\n",
    "print(\"Max in each row:\", np.max(A, axis=1))"
   ]
  },
  {
   "cell_type": "code",
   "execution_count": 15,
   "metadata": {
    "colab": {
     "base_uri": "https://localhost:8080/"
    },
    "id": "KzRBrOWVYWZ2",
    "outputId": "49bedae6-bb65-4460-b841-4a2ca409574b"
   },
   "outputs": [
    {
     "name": "stdout",
     "output_type": "stream",
     "text": [
      "\n",
      "Mean of each column: [3.         3.66666667 8.33333333]\n",
      "Sum of each col: [19  7 19]\n",
      "Mean of each row: [6.33333333 2.33333333 6.33333333]\n",
      "Sum of each row: [19  7 19]\n"
     ]
    }
   ],
   "source": [
    "# 9. Calculate mean and sum in each column and row of A\n",
    "print(\"\\nMean of each column:\", np.mean(A, axis=0))\n",
    "print(\"Sum of each col:\", np.sum(A, axis=1))\n",
    "print(\"Mean of each row:\", np.mean(A, axis=1))\n",
    "print(\"Sum of each row:\", np.sum(A, axis=1))"
   ]
  },
  {
   "cell_type": "code",
   "execution_count": 13,
   "metadata": {
    "colab": {
     "base_uri": "https://localhost:8080/"
    },
    "id": "uu8zhc2-YWc2",
    "outputId": "89d6d6f5-9142-40cc-e055-1ade693b35ba"
   },
   "outputs": [
    {
     "name": "stdout",
     "output_type": "stream",
     "text": [
      "\n",
      "Matrix F:\n",
      " [[4 1 6]\n",
      " [1 2 5]\n",
      " [3 8 4]]\n",
      "Matrix G:\n",
      " [[5 1 0]\n",
      " [2 1 4]\n",
      " [2 4 1]]\n",
      "\n",
      "F * 2:\n",
      " [[ 8  2 12]\n",
      " [ 2  4 10]\n",
      " [ 6 16  8]]\n",
      "F + G:\n",
      " [[ 9  2  6]\n",
      " [ 3  3  9]\n",
      " [ 5 12  5]]\n",
      "F - G:\n",
      " [[-1  0  6]\n",
      " [-1  1  1]\n",
      " [ 1  4  3]]\n",
      "Element-wise multiplication:\n",
      " [[20  1  0]\n",
      " [ 2  2 20]\n",
      " [ 6 32  4]]\n"
     ]
    }
   ],
   "source": [
    "# 10 & 11. Create random matrices F and G\n",
    "F = np.array([[4, 1, 6],\n",
    "              [1, 2, 5],\n",
    "              [3, 8, 4]])\n",
    "\n",
    "G = np.array([[5, 1, 0],\n",
    "              [2, 1, 4],\n",
    "              [2, 4, 1]])\n",
    "\n",
    "print(\"\\nMatrix F:\\n\", F)\n",
    "print(\"Matrix G:\\n\", G)\n",
    "\n",
    "print(\"\\nF * 2:\\n\", F * 2)\n",
    "print(\"F + G:\\n\", F + G)\n",
    "print(\"F - G:\\n\", F - G)\n",
    "print(\"Element-wise multiplication:\\n\", np.multiply(F, G))"
   ]
  },
  {
   "cell_type": "code",
   "execution_count": 14,
   "metadata": {
    "colab": {
     "base_uri": "https://localhost:8080/"
    },
    "id": "4hVx8skVYWeV",
    "outputId": "00e48c8e-90ba-4d6e-b16c-481de37f6df1"
   },
   "outputs": [
    {
     "name": "stdout",
     "output_type": "stream",
     "text": [
      "\n",
      "Matrix Multiplication F * A:\n",
      " [[ 35  35 127]\n",
      " [ 28  14  86]\n",
      " [ 46  48  95]]\n"
     ]
    }
   ],
   "source": [
    "#12.Matrix multiplication (F * A)\n",
    "if F.shape[1] == A.shape[0]:\n",
    "    print(\"\\nMatrix Multiplication F * A:\\n\", np.dot(F, A))\n",
    "else:\n",
    "    print(\"\\nMatrix multiplication is not possible due to shape mismatch.\")"
   ]
  },
  {
   "cell_type": "code",
   "execution_count": 17,
   "metadata": {
    "colab": {
     "base_uri": "https://localhost:8080/"
    },
    "id": "ER-yBbjxYWgP",
    "outputId": "6de5bc3e-65b4-43b7-f256-4dcfac4e0ffd"
   },
   "outputs": [
    {
     "name": "stdout",
     "output_type": "stream",
     "text": [
      "\n",
      "Identity Matrix:\n",
      " [[1. 0. 0.]\n",
      " [0. 1. 0.]\n",
      " [0. 0. 1.]]\n",
      "Zero Matrix:\n",
      " [[0. 0. 0.]\n",
      " [0. 0. 0.]\n",
      " [0. 0. 0.]\n",
      " [0. 0. 0.]\n",
      " [0. 0. 0.]]\n",
      "One Matrix:\n",
      " [[1. 1.]\n",
      " [1. 1.]\n",
      " [1. 1.]\n",
      " [1. 1.]]\n",
      "Diagonal Matrix S:\n",
      " [[2 0 0]\n",
      " [0 1 0]\n",
      " [0 0 7]]\n",
      "Extracted Diagonal: [5 6 7 8 9 7]\n"
     ]
    }
   ],
   "source": [
    "#13.Generate special matrices\n",
    "print(\"\\nIdentity Matrix:\\n\", np.eye(3))\n",
    "print(\"Zero Matrix:\\n\", np.zeros((5, 3)))\n",
    "print(\"One Matrix:\\n\", np.ones((4, 2)))\n",
    "S = np.diag([2, 1, 7])\n",
    "print(\"Diagonal Matrix S:\\n\", S)\n",
    "R = np.random.randint(1, 10, (6, 6))\n",
    "print(\"Extracted Diagonal:\", np.diag(R))"
   ]
  },
  {
   "cell_type": "code",
   "execution_count": null,
   "metadata": {},
   "outputs": [],
   "source": []
  }
 ],
 "metadata": {
  "colab": {
   "provenance": []
  },
  "kernelspec": {
   "display_name": "Python 3 (ipykernel)",
   "language": "python",
   "name": "python3"
  },
  "language_info": {
   "codemirror_mode": {
    "name": "ipython",
    "version": 3
   },
   "file_extension": ".py",
   "mimetype": "text/x-python",
   "name": "python",
   "nbconvert_exporter": "python",
   "pygments_lexer": "ipython3",
   "version": "3.11.4"
  }
 },
 "nbformat": 4,
 "nbformat_minor": 1
}
